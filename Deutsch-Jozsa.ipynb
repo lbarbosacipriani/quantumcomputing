{
 "cells": [
  {
   "cell_type": "code",
   "execution_count": 7,
   "id": "d6b6ebad-7b65-40b8-9bc5-6e6bf3faa45f",
   "metadata": {},
   "outputs": [],
   "source": [
    "# Para utilizar ferramentas matemáticas\n",
    "import numpy as np\n",
    "\n",
    "# Para utilizar simulador e hardware quântico real\n",
    "from qiskit import IBMQ, Aer\n",
    "from qiskit.tools.monitor import job_monitor\n",
    "\n",
    "# Para construir e manipular circuitos\n",
    "from qiskit import QuantumCircuit, QuantumRegister, ClassicalRegister, assemble, transpile\n",
    "\n",
    "# Para utilizar ferramentas de visualização\n",
    "from qiskit.visualization import plot_histogram"
   ]
  },
  {
   "cell_type": "code",
   "execution_count": 8,
   "id": "6cb0b63c-a261-4956-bf35-ea984f4c2bc5",
   "metadata": {},
   "outputs": [
    {
     "data": {
      "text/html": [
       "<pre style=\"word-wrap: normal;white-space: pre;background: #fff0;line-height: 1.1;font-family: &quot;Courier New&quot;,Courier,monospace\">          \n",
       "x_0: ─────\n",
       "          \n",
       "x_1: ─────\n",
       "          \n",
       "x_2: ─────\n",
       "     ┌───┐\n",
       "  a: ┤ X ├\n",
       "     └───┘</pre>"
      ],
      "text/plain": [
       "          \n",
       "x_0: ─────\n",
       "          \n",
       "x_1: ─────\n",
       "          \n",
       "x_2: ─────\n",
       "     ┌───┐\n",
       "  a: ┤ X ├\n",
       "     └───┘"
      ]
     },
     "execution_count": 8,
     "metadata": {},
     "output_type": "execute_result"
    }
   ],
   "source": [
    "# ORÁCULO CONSTANTE\n",
    "# Número de qubits da entrada\n",
    "n = 3\n",
    "\n",
    "# Cria o circuito quântico\n",
    "reg_x = QuantumRegister(n, name='x')\n",
    "reg_a = QuantumRegister(1, name='a')\n",
    "const_oracle = QuantumCircuit(reg_x, reg_a)\n",
    "\n",
    "# A entrada não influencia a saída\n",
    "output = np.random.randint(2)\n",
    "if output == 1:\n",
    "    const_oracle.x(n)\n",
    "    \n",
    "# Mostra o circuito do oráculo\n",
    "const_oracle.draw()"
   ]
  },
  {
   "cell_type": "code",
   "execution_count": 9,
   "id": "cffb3529-181f-407d-b5f9-0d3b23a73b9b",
   "metadata": {},
   "outputs": [
    {
     "data": {
      "text/html": [
       "<pre style=\"word-wrap: normal;white-space: pre;background: #fff0;line-height: 1.1;font-family: &quot;Courier New&quot;,Courier,monospace\">                                   \n",
       "x_0: ───────■──────────────────────\n",
       "     ┌───┐  │       ┌───┐          \n",
       "x_1: ┤ X ├──┼────■──┤ X ├──────────\n",
       "     └───┘  │    │  └───┘          \n",
       "x_2: ───────┼────┼────■────────────\n",
       "            │    │    │            \n",
       "x_3: ───────┼────┼────┼────■───────\n",
       "            │    │    │    │       \n",
       "x_4: ───────┼────┼────┼────┼────■──\n",
       "          ┌─┴─┐┌─┴─┐┌─┴─┐┌─┴─┐┌─┴─┐\n",
       "  a: ─────┤ X ├┤ X ├┤ X ├┤ X ├┤ X ├\n",
       "          └───┘└───┘└───┘└───┘└───┘</pre>"
      ],
      "text/plain": [
       "                                   \n",
       "x_0: ───────■──────────────────────\n",
       "     ┌───┐  │       ┌───┐          \n",
       "x_1: ┤ X ├──┼────■──┤ X ├──────────\n",
       "     └───┘  │    │  └───┘          \n",
       "x_2: ───────┼────┼────■────────────\n",
       "            │    │    │            \n",
       "x_3: ───────┼────┼────┼────■───────\n",
       "            │    │    │    │       \n",
       "x_4: ───────┼────┼────┼────┼────■──\n",
       "          ┌─┴─┐┌─┴─┐┌─┴─┐┌─┴─┐┌─┴─┐\n",
       "  a: ─────┤ X ├┤ X ├┤ X ├┤ X ├┤ X ├\n",
       "          └───┘└───┘└───┘└───┘└───┘"
      ]
     },
     "execution_count": 9,
     "metadata": {},
     "output_type": "execute_result"
    }
   ],
   "source": [
    "# ORÁCULO BALANCEADO\n",
    "# Número de qubits da entrada\n",
    "n = 5\n",
    "\n",
    "# Cria o circuito quântico\n",
    "reg_x = QuantumRegister(n, name='x')\n",
    "reg_a = QuantumRegister(1, name='a')\n",
    "balanced_oracle = QuantumCircuit(reg_x, reg_a)\n",
    "\n",
    "# Controla quais qubits de entrada passarão por uma porta X (little-endian)\n",
    "b_str = \"010\"\n",
    "\n",
    "# Inclui as portas X\n",
    "for qubit in range(len(b_str)):\n",
    "    if b_str[qubit] == '1':\n",
    "        balanced_oracle.x(qubit)\n",
    "\n",
    "# Inclui uma barra para facilitar a visualização do circuito\n",
    "# (comentar quando for converter o circuito com to_gate())\n",
    "#balanced_oracle.barrier()\n",
    "\n",
    "# Inclui as portas CNOT\n",
    "for qubit in range(n):\n",
    "    balanced_oracle.cx(qubit, n)\n",
    "\n",
    "# Inclui uma barra para facilitar a visualização do circuito\n",
    "# (comentar quando for converter o circuito com to_gate())\n",
    "#balanced_oracle.barrier()\n",
    "\n",
    "# Inclui as portas X\n",
    "for qubit in range(len(b_str)):\n",
    "    if b_str[qubit] == '1':\n",
    "        balanced_oracle.x(qubit)\n",
    "\n",
    "# Mostra o circuito do oráculo\n",
    "balanced_oracle.draw()"
   ]
  },
  {
   "cell_type": "code",
   "execution_count": 10,
   "id": "b1d799ae-8510-4db1-be6d-ec6d9ff57816",
   "metadata": {},
   "outputs": [
    {
     "data": {
      "text/html": [
       "<pre style=\"word-wrap: normal;white-space: pre;background: #fff0;line-height: 1.1;font-family: &quot;Courier New&quot;,Courier,monospace\">     ┌───┐      ░ ┌─────────┐ ░ ┌───┐ ░ ┌─┐            \n",
       "x_0: ┤ H ├──────░─┤0        ├─░─┤ H ├─░─┤M├────────────\n",
       "     ├───┤      ░ │         │ ░ ├───┤ ░ └╥┘┌─┐         \n",
       "x_1: ┤ H ├──────░─┤1        ├─░─┤ H ├─░──╫─┤M├─────────\n",
       "     ├───┤      ░ │         │ ░ ├───┤ ░  ║ └╥┘┌─┐      \n",
       "x_2: ┤ H ├──────░─┤2        ├─░─┤ H ├─░──╫──╫─┤M├──────\n",
       "     ├───┤      ░ │  Oracle │ ░ ├───┤ ░  ║  ║ └╥┘┌─┐   \n",
       "x_3: ┤ H ├──────░─┤3        ├─░─┤ H ├─░──╫──╫──╫─┤M├───\n",
       "     ├───┤      ░ │         │ ░ ├───┤ ░  ║  ║  ║ └╥┘┌─┐\n",
       "x_4: ┤ H ├──────░─┤4        ├─░─┤ H ├─░──╫──╫──╫──╫─┤M├\n",
       "     ├───┤┌───┐ ░ │         │ ░ └───┘ ░  ║  ║  ║  ║ └╥┘\n",
       "  a: ┤ X ├┤ H ├─░─┤5        ├─░───────░──╫──╫──╫──╫──╫─\n",
       "     └───┘└───┘ ░ └─────────┘ ░       ░  ║  ║  ║  ║  ║ \n",
       "c: 5/════════════════════════════════════╩══╩══╩══╩══╩═\n",
       "                                         0  1  2  3  4 </pre>"
      ],
      "text/plain": [
       "     ┌───┐      ░ ┌─────────┐ ░ ┌───┐ ░ ┌─┐            \n",
       "x_0: ┤ H ├──────░─┤0        ├─░─┤ H ├─░─┤M├────────────\n",
       "     ├───┤      ░ │         │ ░ ├───┤ ░ └╥┘┌─┐         \n",
       "x_1: ┤ H ├──────░─┤1        ├─░─┤ H ├─░──╫─┤M├─────────\n",
       "     ├───┤      ░ │         │ ░ ├───┤ ░  ║ └╥┘┌─┐      \n",
       "x_2: ┤ H ├──────░─┤2        ├─░─┤ H ├─░──╫──╫─┤M├──────\n",
       "     ├───┤      ░ │  Oracle │ ░ ├───┤ ░  ║  ║ └╥┘┌─┐   \n",
       "x_3: ┤ H ├──────░─┤3        ├─░─┤ H ├─░──╫──╫──╫─┤M├───\n",
       "     ├───┤      ░ │         │ ░ ├───┤ ░  ║  ║  ║ └╥┘┌─┐\n",
       "x_4: ┤ H ├──────░─┤4        ├─░─┤ H ├─░──╫──╫──╫──╫─┤M├\n",
       "     ├───┤┌───┐ ░ │         │ ░ └───┘ ░  ║  ║  ║  ║ └╥┘\n",
       "  a: ┤ X ├┤ H ├─░─┤5        ├─░───────░──╫──╫──╫──╫──╫─\n",
       "     └───┘└───┘ ░ └─────────┘ ░       ░  ║  ║  ║  ║  ║ \n",
       "c: 5/════════════════════════════════════╩══╩══╩══╩══╩═\n",
       "                                         0  1  2  3  4 "
      ]
     },
     "execution_count": 10,
     "metadata": {},
     "output_type": "execute_result"
    }
   ],
   "source": [
    "# ALGORITMO DEUTSCH-JOZSA (DJ)\n",
    "# Encapsula os oráculos em portas quânticas\n",
    "const_oracle_gate = const_oracle.to_gate()\n",
    "const_oracle_gate.name = \"Oracle\"\n",
    "balanced_oracle_gate = balanced_oracle.to_gate()\n",
    "balanced_oracle_gate.name = \"Oracle\"\n",
    "\n",
    "# Cria o circuito quântico\n",
    "reg_x = QuantumRegister(n, name='x')\n",
    "reg_a = QuantumRegister(1, name='a')\n",
    "creg = ClassicalRegister(n, name='c')\n",
    "dj_circuit = QuantumCircuit(reg_x, reg_a, creg)\n",
    "\n",
    "# Inclui as portas Hadamard\n",
    "for qubit in range(n):\n",
    "    dj_circuit.h(qubit)\n",
    "    \n",
    "# Coloca o qubit ancilla no estado |->\n",
    "dj_circuit.x(n)\n",
    "dj_circuit.h(n)\n",
    "\n",
    "# Inclui uma barra para facilitar a visualização do circuito\n",
    "dj_circuit.barrier()\n",
    "\n",
    "# Adiciona o oráculo desejado\n",
    "#dj_circuit += const_oracle \n",
    "#dj_circuit += balanced_oracle\n",
    "\n",
    "# Adiciona o oráculo desejado de forma encapsulada\n",
    "#dj_circuit.append(const_oracle_gate, range(n+1))\n",
    "dj_circuit.append(balanced_oracle_gate, range(n+1))\n",
    "\n",
    "# Inclui uma barra para facilitar a visualização do circuito\n",
    "dj_circuit.barrier()\n",
    "\n",
    "# Repete a inclusão das portas Hadamard\n",
    "for qubit in range(n):\n",
    "    dj_circuit.h(qubit)\n",
    "    \n",
    "# Inclui uma barra para facilitar a visualização do circuito\n",
    "dj_circuit.barrier()\n",
    "\n",
    "# Inclui as medições\n",
    "for i in range(n):\n",
    "    dj_circuit.measure(i, i)\n",
    "    \n",
    "# Mostra o circuito do algoritmo DJ\n",
    "dj_circuit.draw()"
   ]
  },
  {
   "cell_type": "code",
   "execution_count": 11,
   "id": "61277c9b-f5fb-4361-a527-c8bd755499eb",
   "metadata": {},
   "outputs": [
    {
     "name": "stderr",
     "output_type": "stream",
     "text": [
      "/var/folders/30/pgp77_r92w5_rn1ghx4kn51h0000gn/T/ipykernel_29900/3254517452.py:7: DeprecationWarning: Using a qobj for run() is deprecated as of qiskit-aer 0.9.0 and will be removed no sooner than 3 months from that release date. Transpiled circuits should now be passed directly using `backend.run(circuits, **run_options).\n",
      "  results = aer_sim.run(qobj).result()\n"
     ]
    },
    {
     "data": {
      "image/png": "[encoded data removed]",
      "text/plain": [
       "<Figure size 700x500 with 1 Axes>"
      ]
     },
     "execution_count": 11,
     "metadata": {},
     "output_type": "execute_result"
    }
   ],
   "source": [
    "# Excecuta em um simulador\n",
    "aer_sim = Aer.get_backend('aer_simulator')\n",
    "t_dj_circuit = transpile(dj_circuit, aer_sim)\n",
    "qobj = assemble(t_dj_circuit, aer_sim)\n",
    "\n",
    "# Obtém os resultados\n",
    "results = aer_sim.run(qobj).result()\n",
    "answer = results.get_counts()\n",
    "\n",
    "# Mostra os resultados\n",
    "plot_histogram(answer)"
   ]
  },
  {
   "cell_type": "code",
   "execution_count": 12,
   "id": "9fd36193-ab8f-461c-9c07-ea2ca645386f",
   "metadata": {},
   "outputs": [
    {
     "ename": "IBMQAccountCredentialsNotFound",
     "evalue": "'No IBM Quantum Experience credentials found.'",
     "output_type": "error",
     "traceback": [
      "\u001b[0;31m---------------------------------------------------------------------------\u001b[0m",
      "\u001b[0;31mIBMQAccountCredentialsNotFound\u001b[0m            Traceback (most recent call last)",
      "Cell \u001b[0;32mIn[12], line 3\u001b[0m\n\u001b[1;32m      1\u001b[0m \u001b[39m# Excecuta em um hardware quântico\u001b[39;00m\n\u001b[1;32m      2\u001b[0m \u001b[39m# Carrega uma conta do IBMQ e obtém o dispositivo menos ocupado que tenha um número de qubits maior ou igual a (n+1)\u001b[39;00m\n\u001b[0;32m----> 3\u001b[0m IBMQ\u001b[39m.\u001b[39;49mload_account()\n\u001b[1;32m      4\u001b[0m provider \u001b[39m=\u001b[39m IBMQ\u001b[39m.\u001b[39mget_provider(hub\u001b[39m=\u001b[39m\u001b[39m'\u001b[39m\u001b[39mibm-q\u001b[39m\u001b[39m'\u001b[39m)\n\u001b[1;32m      5\u001b[0m backend \u001b[39m=\u001b[39m (provider\u001b[39m.\u001b[39mbackends(filters\u001b[39m=\u001b[39m\u001b[39mlambda\u001b[39;00m x: x\u001b[39m.\u001b[39mconfiguration()\u001b[39m.\u001b[39mn_qubits \u001b[39m>\u001b[39m\u001b[39m=\u001b[39m (n\u001b[39m+\u001b[39m\u001b[39m1\u001b[39m) \u001b[39mand\u001b[39;00m\n\u001b[1;32m      6\u001b[0m                                    \u001b[39mnot\u001b[39;00m x\u001b[39m.\u001b[39mconfiguration()\u001b[39m.\u001b[39msimulator \u001b[39mand\u001b[39;00m x\u001b[39m.\u001b[39mstatus()\u001b[39m.\u001b[39moperational\u001b[39m==\u001b[39m\u001b[39mTrue\u001b[39;00m))\n",
      "File \u001b[0;32m~/Library/Python/3.9/lib/python/site-packages/qiskit/providers/ibmq/ibmqfactory.py:167\u001b[0m, in \u001b[0;36mIBMQFactory.load_account\u001b[0;34m(self)\u001b[0m\n\u001b[1;32m    164\u001b[0m credentials_list \u001b[39m=\u001b[39m \u001b[39mlist\u001b[39m(stored_credentials\u001b[39m.\u001b[39mvalues())\n\u001b[1;32m    166\u001b[0m \u001b[39mif\u001b[39;00m \u001b[39mnot\u001b[39;00m credentials_list:\n\u001b[0;32m--> 167\u001b[0m     \u001b[39mraise\u001b[39;00m IBMQAccountCredentialsNotFound(\n\u001b[1;32m    168\u001b[0m         \u001b[39m'\u001b[39m\u001b[39mNo IBM Quantum Experience credentials found.\u001b[39m\u001b[39m'\u001b[39m)\n\u001b[1;32m    170\u001b[0m \u001b[39mif\u001b[39;00m \u001b[39mlen\u001b[39m(credentials_list) \u001b[39m>\u001b[39m \u001b[39m1\u001b[39m:\n\u001b[1;32m    171\u001b[0m     \u001b[39mraise\u001b[39;00m IBMQAccountMultipleCredentialsFound(\n\u001b[1;32m    172\u001b[0m         \u001b[39m'\u001b[39m\u001b[39mMultiple IBM Quantum Experience credentials found. \u001b[39m\u001b[39m'\u001b[39m \u001b[39m+\u001b[39m UPDATE_ACCOUNT_TEXT)\n",
      "\u001b[0;31mIBMQAccountCredentialsNotFound\u001b[0m: 'No IBM Quantum Experience credentials found.'"
     ]
    }
   ],
   "source": [
    "# Excecuta em um hardware quântico\n",
    "# Carrega uma conta do IBMQ e obtém o dispositivo menos ocupado que tenha um número de qubits maior ou igual a (n+1)\n",
    "IBMQ.load_account()\n",
    "provider = IBMQ.get_provider(hub='ibm-q')\n",
    "backend = (provider.backends(filters=lambda x: x.configuration().n_qubits >= (n+1) and\n",
    "                                   not x.configuration().simulator and x.status().operational==True))\n",
    "\n",
    "# Transpila e executa\n",
    "t_dj_circuit = transpile(dj_circuit, backend)\n",
    "job = backend.run(t_dj_circuit)\n",
    "\n",
    "# Obtém os resultados\n",
    "results = job.result()\n",
    "answer = results.get_counts()\n",
    "\n",
    "# Mostra os resultados\n",
    "plot_histogram(answer)"
   ]
  },
  {
   "cell_type": "code",
   "execution_count": null,
   "id": "b1ff069e-32a9-4708-8fe5-6dba9630e1eb",
   "metadata": {},
   "outputs": [],
   "source": []
  }
 ],
 "metadata": {
  "kernelspec": {
   "display_name": "Python 3 (ipykernel)",
   "language": "python",
   "name": "python3"
  },
  "language_info": {
   "codemirror_mode": {
    "name": "ipython",
    "version": 3
   },
   "file_extension": ".py",
   "mimetype": "text/x-python",
   "name": "python",
   "nbconvert_exporter": "python",
   "pygments_lexer": "ipython3",
   "version": "3.9.6"
  },
  "widgets": {
   "application/vnd.jupyter.widget-state+json": {
    "state": {},
    "version_major": 2,
    "version_minor": 0
   }
  }
 },
 "nbformat": 4,
 "nbformat_minor": 5
}
