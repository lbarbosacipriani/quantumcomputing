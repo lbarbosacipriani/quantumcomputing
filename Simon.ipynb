{
 "cells": [
  {
   "cell_type": "code",
   "execution_count": 63,
   "id": "642f9948-45fe-4586-b065-b4c8dae0d8ff",
   "metadata": {},
   "outputs": [
    {
     "ename": "TypeError",
     "evalue": "unsupported operand type(s) for +=: 'QuantumCircuit' and 'QuantumCircuit'",
     "output_type": "error",
     "traceback": [
      "\u001b[0;31m---------------------------------------------------------------------------\u001b[0m",
      "\u001b[0;31mTypeError\u001b[0m                                 Traceback (most recent call last)",
      "Cell \u001b[0;32mIn[63], line 52\u001b[0m\n\u001b[1;32m     49\u001b[0m simon_circuit\u001b[39m.\u001b[39mbarrier()\n\u001b[1;32m     51\u001b[0m \u001b[39m# Inclui o oráculo de Simon\u001b[39;00m\n\u001b[0;32m---> 52\u001b[0m simon_circuit \u001b[39m+\u001b[39m\u001b[39m=\u001b[39m simon_oracle(b)\n\u001b[1;32m     54\u001b[0m \u001b[39m# Inclui uma barra para facilitar a visualização do circuito\u001b[39;00m\n\u001b[1;32m     55\u001b[0m simon_circuit\u001b[39m.\u001b[39mbarrier()\n",
      "\u001b[0;31mTypeError\u001b[0m: unsupported operand type(s) for +=: 'QuantumCircuit' and 'QuantumCircuit'"
     ]
    }
   ],
   "source": [
    "# Para utilizar ferramentas matemáticas\n",
    "import numpy as np\n",
    "\n",
    "# Para utilizar simulador e hardware quântico real\n",
    "from qiskit import Aer, IBMQ\n",
    "from qiskit.providers.ibmq import least_busy\n",
    "from qiskit.providers.aer import QasmSimulator\n",
    "from qiskit_textbook.tools import simon_oracle\n",
    "# Para construir e manipular circuitos\n",
    "from qiskit import QuantumCircuit, assemble, transpile\n",
    "\n",
    "# Para utilizar ferramentas de visualização\n",
    "from qiskit.visualization import plot_histogram\n",
    "\n",
    "# Oráculo de Simon\n",
    "def simon_oracle2(b):\n",
    "    n = len(b)\n",
    "    oracle_qc = QuantumCircuit(2 * n,n)\n",
    "    \n",
    "    # Copia o 1o registrador no 2o registrador\n",
    "    for i in range(n):\n",
    "        oracle_qc.cx(i, i + n)\n",
    "    \n",
    "    # Encontra o índice menos significativo e inclui as portas CNOT necessárias\n",
    "    for i in range (n):\n",
    "        if (b[i] == '1'):\n",
    "            for j in range (i, n):\n",
    "                if (b[j] == '1'):\n",
    "                    oracle_qc.cx(i, j+n)\n",
    "            break\n",
    "    return oracle_qc\n",
    "\n",
    "# String secreta\n",
    "b = '110'\n",
    "\n",
    "# Faz b seguir a ordenação de bits do Qiskit\n",
    "b = b[::-1] \n",
    "\n",
    "# Número de qubits dos registradores\n",
    "n = len(b)\n",
    "\n",
    "# Cria o circuito quântico\n",
    "simon_circuit = QuantumCircuit(n * 2,n)\n",
    "\n",
    "# Aplica Hadamard ao 1o registrador\n",
    "simon_circuit.h(range(n))\n",
    "\n",
    "# Inclui uma barra para facilitar a visualização do circuito\n",
    "simon_circuit.barrier()\n",
    "\n",
    "# Inclui o oráculo de Simon\n",
    "simon_circuit += simon_oracle(b)\n",
    "\n",
    "# Inclui uma barra para facilitar a visualização do circuito\n",
    "simon_circuit.barrier()\n",
    "\n",
    "# Aplica Hadamard novamente ao 1o registrador\n",
    "simon_circuit.h(range(n))\n",
    "\n",
    "# Inclui uma barra para facilitar a visualização do circuito\n",
    "simon_circuit.barrier()\n",
    "\n",
    "# Realiza a medição\n",
    "simon_circuit.measure(range(n), range(n))\n",
    "simon_circuit.draw()"
   ]
  },
  {
   "cell_type": "code",
   "execution_count": 57,
   "id": "6154ba32-9b0d-45c7-89ab-fbfbc8d40f8a",
   "metadata": {},
   "outputs": [
    {
     "name": "stderr",
     "output_type": "stream",
     "text": [
      "/var/folders/30/pgp77_r92w5_rn1ghx4kn51h0000gn/T/ipykernel_26186/678314940.py:6: DeprecationWarning: Using a qobj for run() is deprecated as of qiskit-aer 0.9.0 and will be removed no sooner than 3 months from that release date. Transpiled circuits should now be passed directly using `backend.run(circuits, **run_options).\n",
      "  results = aer_sim.run(qobj).result()\n"
     ]
    },
    {
     "ename": "QiskitError",
     "evalue": "'No counts for experiment \"0\"'",
     "output_type": "error",
     "traceback": [
      "\u001b[0;31m---------------------------------------------------------------------------\u001b[0m",
      "\u001b[0;31mQiskitError\u001b[0m                               Traceback (most recent call last)",
      "Cell \u001b[0;32mIn[57], line 7\u001b[0m\n\u001b[1;32m      5\u001b[0m \u001b[39m# Obtém os resultados\u001b[39;00m\n\u001b[1;32m      6\u001b[0m results \u001b[39m=\u001b[39m aer_sim\u001b[39m.\u001b[39mrun(qobj)\u001b[39m.\u001b[39mresult()\n\u001b[0;32m----> 7\u001b[0m counts \u001b[39m=\u001b[39m results\u001b[39m.\u001b[39;49mget_counts()\n\u001b[1;32m      9\u001b[0m \u001b[39m# Mostra os resultados\u001b[39;00m\n\u001b[1;32m     10\u001b[0m plot_histogram(counts)\n",
      "File \u001b[0;32m~/Library/Python/3.9/lib/python/site-packages/qiskit/result/result.py:289\u001b[0m, in \u001b[0;36mResult.get_counts\u001b[0;34m(self, experiment)\u001b[0m\n\u001b[1;32m    287\u001b[0m         dict_list\u001b[39m.\u001b[39mappend(statevector\u001b[39m.\u001b[39mStatevector(vec)\u001b[39m.\u001b[39mprobabilities_dict(decimals\u001b[39m=\u001b[39m\u001b[39m15\u001b[39m))\n\u001b[1;32m    288\u001b[0m     \u001b[39melse\u001b[39;00m:\n\u001b[0;32m--> 289\u001b[0m         \u001b[39mraise\u001b[39;00m QiskitError(\u001b[39mf\u001b[39m\u001b[39m'\u001b[39m\u001b[39mNo counts for experiment \u001b[39m\u001b[39m\"\u001b[39m\u001b[39m{\u001b[39;00m\u001b[39mrepr\u001b[39m(key)\u001b[39m}\u001b[39;00m\u001b[39m\"\u001b[39m\u001b[39m'\u001b[39m)\n\u001b[1;32m    291\u001b[0m \u001b[39m# Return first item of dict_list if size is 1\u001b[39;00m\n\u001b[1;32m    292\u001b[0m \u001b[39mif\u001b[39;00m \u001b[39mlen\u001b[39m(dict_list) \u001b[39m==\u001b[39m \u001b[39m1\u001b[39m:\n",
      "\u001b[0;31mQiskitError\u001b[0m: 'No counts for experiment \"0\"'"
     ]
    }
   ],
   "source": [
    "# Excecuta em um simulador\n",
    "aer_sim = Aer.get_backend('aer_simulator')\n",
    "qobj = assemble(simon_circuit)\n",
    "\n",
    "# Obtém os resultados\n",
    "results = aer_sim.run(qobj).result()\n",
    "counts = results.get_counts()\n",
    "\n",
    "# Mostra os resultados\n",
    "plot_histogram(counts)"
   ]
  },
  {
   "cell_type": "code",
   "execution_count": null,
   "id": "ac7a3880-726d-41c5-a70b-7611ada19dae",
   "metadata": {},
   "outputs": [
    {
     "ename": "TypeError",
     "evalue": "unsupported operand type(s) for +=: 'QuantumCircuit' and 'QuantumCircuit'",
     "output_type": "error",
     "traceback": [
      "\u001b[0;31m---------------------------------------------------------------------------\u001b[0m",
      "\u001b[0;31mTypeError\u001b[0m                                 Traceback (most recent call last)",
      "Cell \u001b[0;32mIn[47], line 14\u001b[0m\n\u001b[1;32m     11\u001b[0m simon_circuit\u001b[39m.\u001b[39mbarrier()\n\u001b[1;32m     13\u001b[0m \u001b[39m# Inclui o oráculo de Simon\u001b[39;00m\n\u001b[0;32m---> 14\u001b[0m simon_circuit \u001b[39m+\u001b[39m\u001b[39m=\u001b[39m simon_oracle(b)\n\u001b[1;32m     16\u001b[0m \u001b[39m# Aplica uma barreira para facilitar a visualização\u001b[39;00m\n\u001b[1;32m     17\u001b[0m simon_circuit\u001b[39m.\u001b[39mbarrier()\n",
      "\u001b[0;31mTypeError\u001b[0m: unsupported operand type(s) for +=: 'QuantumCircuit' and 'QuantumCircuit'"
     ]
    }
   ],
   "source": [
    "# String secreta\n",
    "b = '10'\n",
    "\n",
    "n = len(b)\n",
    "simon_circuit = QuantumCircuit(n*2, n)\n",
    "\n",
    "# Aplica Hadamard ao 1o registrador\n",
    "simon_circuit.h(range(n))\n",
    "\n",
    "# Aplica uma barreira para facilitar a visualização\n",
    "simon_circuit.barrier()\n",
    "\n",
    "# Inclui o oráculo de Simon\n",
    "simon_circuit += simon_oracle(b)\n",
    "\n",
    "# Aplica uma barreira para facilitar a visualização\n",
    "simon_circuit.barrier()\n",
    "\n",
    "# Aplica Hadamard ao 2o registrador\n",
    "simon_circuit.h(range(n))\n",
    "\n",
    "# Aplica uma barreira para facilitar a visualização\n",
    "simon_circuit.barrier()\n",
    "\n",
    "# Realiza a medição\n",
    "simon_circuit.measure(range(n), range(n))\n",
    "simon_circuit.draw()"
   ]
  },
  {
   "cell_type": "code",
   "execution_count": null,
   "id": "531a49ae-f947-4dd5-9386-b7cd75792e0c",
   "metadata": {},
   "outputs": [
    {
     "ename": "IBMQAccountCredentialsNotFound",
     "evalue": "'No IBM Quantum Experience credentials found.'",
     "output_type": "error",
     "traceback": [
      "\u001b[0;31m---------------------------------------------------------------------------\u001b[0m",
      "\u001b[0;31mIBMQAccountCredentialsNotFound\u001b[0m            Traceback (most recent call last)",
      "Cell \u001b[0;32mIn[48], line 2\u001b[0m\n\u001b[1;32m      1\u001b[0m \u001b[39m# Carrega uma conta do IBMQ e obtém o dispositivo menos ocupado que tenha um número de qubits maior ou igual a (n+1)\u001b[39;00m\n\u001b[0;32m----> 2\u001b[0m IBMQ\u001b[39m.\u001b[39;49mload_account()\n\u001b[1;32m      3\u001b[0m provider \u001b[39m=\u001b[39m IBMQ\u001b[39m.\u001b[39mget_provider(hub\u001b[39m=\u001b[39m\u001b[39m'\u001b[39m\u001b[39mibm-q\u001b[39m\u001b[39m'\u001b[39m)\n\u001b[1;32m      4\u001b[0m provider\u001b[39m.\u001b[39mbackends()\n",
      "File \u001b[0;32m~/Library/Python/3.9/lib/python/site-packages/qiskit/providers/ibmq/ibmqfactory.py:167\u001b[0m, in \u001b[0;36mIBMQFactory.load_account\u001b[0;34m(self)\u001b[0m\n\u001b[1;32m    164\u001b[0m credentials_list \u001b[39m=\u001b[39m \u001b[39mlist\u001b[39m(stored_credentials\u001b[39m.\u001b[39mvalues())\n\u001b[1;32m    166\u001b[0m \u001b[39mif\u001b[39;00m \u001b[39mnot\u001b[39;00m credentials_list:\n\u001b[0;32m--> 167\u001b[0m     \u001b[39mraise\u001b[39;00m IBMQAccountCredentialsNotFound(\n\u001b[1;32m    168\u001b[0m         \u001b[39m'\u001b[39m\u001b[39mNo IBM Quantum Experience credentials found.\u001b[39m\u001b[39m'\u001b[39m)\n\u001b[1;32m    170\u001b[0m \u001b[39mif\u001b[39;00m \u001b[39mlen\u001b[39m(credentials_list) \u001b[39m>\u001b[39m \u001b[39m1\u001b[39m:\n\u001b[1;32m    171\u001b[0m     \u001b[39mraise\u001b[39;00m IBMQAccountMultipleCredentialsFound(\n\u001b[1;32m    172\u001b[0m         \u001b[39m'\u001b[39m\u001b[39mMultiple IBM Quantum Experience credentials found. \u001b[39m\u001b[39m'\u001b[39m \u001b[39m+\u001b[39m UPDATE_ACCOUNT_TEXT)\n",
      "\u001b[0;31mIBMQAccountCredentialsNotFound\u001b[0m: 'No IBM Quantum Experience credentials found.'"
     ]
    }
   ],
   "source": [
    "# Carrega uma conta do IBMQ e obtém o dispositivo menos ocupado que tenha um número de qubits maior ou igual a (n+1)\n",
    "IBMQ.load_account()\n",
    "provider = IBMQ.get_provider(hub='ibm-q')\n",
    "provider.backends()\n",
    "backend = least_busy(provider.backends(filters=lambda x: x.configuration().n_qubits >= 2*n and\n",
    "                                   not x.configuration().simulator and x.status().operational==True))\n",
    "\n",
    "# Transpila e executa\n",
    "shots = 1024\n",
    "transpiled_bv_circuit = transpile(simon_circuit, backend)\n",
    "job = backend.run(transpiled_bv_circuit, shots=shots)\n",
    "\n",
    "# Obtém os resultados\n",
    "results = job.result()\n",
    "counts = results.get_counts()\n",
    "\n",
    "# Mostra os resultados\n",
    "plot_histogram(counts)"
   ]
  }
 ],
 "metadata": {
  "kernelspec": {
   "display_name": "Python 3 (ipykernel)",
   "language": "python",
   "name": "python3"
  },
  "language_info": {
   "codemirror_mode": {
    "name": "ipython",
    "version": 3
   },
   "file_extension": ".py",
   "mimetype": "text/x-python",
   "name": "python",
   "nbconvert_exporter": "python",
   "pygments_lexer": "ipython3",
   "version": "3.9.6"
  },
  "widgets": {
   "application/vnd.jupyter.widget-state+json": {
    "state": {},
    "version_major": 2,
    "version_minor": 0
   }
  }
 },
 "nbformat": 4,
 "nbformat_minor": 5
}
