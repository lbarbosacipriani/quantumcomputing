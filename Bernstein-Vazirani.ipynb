{
 "cells": [
  {
   "cell_type": "code",
   "execution_count": 1,
   "id": "2f245896-fdd5-4f01-9e89-b66210884e86",
   "metadata": {},
   "outputs": [
    {
     "name": "stderr",
     "output_type": "stream",
     "text": [
      "/Users/leonardocipriani/Library/Python/3.9/lib/python/site-packages/urllib3/__init__.py:34: NotOpenSSLWarning: urllib3 v2.0 only supports OpenSSL 1.1.1+, currently the 'ssl' module is compiled with 'LibreSSL 2.8.3'. See: https://github.com/urllib3/urllib3/issues/3020\n",
      "  warnings.warn(\n"
     ]
    },
    {
     "data": {
      "text/html": [
       "<pre style=\"word-wrap: normal;white-space: pre;background: #fff0;line-height: 1.1;font-family: &quot;Courier New&quot;,Courier,monospace\">     ┌───┐      ░ ┌───┐           ░ ┌───┐┌─┐               \n",
       "x_0: ┤ H ├──────░─┤ I ├───────────░─┤ H ├┤M├───────────────\n",
       "     ├───┤      ░ ├───┤           ░ ├───┤└╥┘┌─┐            \n",
       "x_1: ┤ H ├──────░─┤ I ├───────────░─┤ H ├─╫─┤M├────────────\n",
       "     ├───┤      ░ └───┘           ░ ├───┤ ║ └╥┘┌─┐         \n",
       "x_2: ┤ H ├──────░───■─────────────░─┤ H ├─╫──╫─┤M├─────────\n",
       "     ├───┤      ░   │  ┌───┐      ░ ├───┤ ║  ║ └╥┘┌─┐      \n",
       "x_3: ┤ H ├──────░───┼──┤ I ├──────░─┤ H ├─╫──╫──╫─┤M├──────\n",
       "     ├───┤      ░   │  └───┘      ░ ├───┤ ║  ║  ║ └╥┘┌─┐   \n",
       "x_4: ┤ H ├──────░───┼────■────────░─┤ H ├─╫──╫──╫──╫─┤M├───\n",
       "     ├───┤      ░   │    │        ░ ├───┤ ║  ║  ║  ║ └╥┘┌─┐\n",
       "x_5: ┤ H ├──────░───┼────┼────■───░─┤ H ├─╫──╫──╫──╫──╫─┤M├\n",
       "     ├───┤┌───┐ ░ ┌─┴─┐┌─┴─┐┌─┴─┐ ░ └───┘ ║  ║  ║  ║  ║ └╥┘\n",
       "  a: ┤ X ├┤ H ├─░─┤ X ├┤ X ├┤ X ├─░───────╫──╫──╫──╫──╫──╫─\n",
       "     └───┘└───┘ ░ └───┘└───┘└───┘ ░       ║  ║  ║  ║  ║  ║ \n",
       "c: 6/═════════════════════════════════════╩══╩══╩══╩══╩══╩═\n",
       "                                          5  4  3  2  1  0 </pre>"
      ],
      "text/plain": [
       "     ┌───┐      ░ ┌───┐           ░ ┌───┐┌─┐               \n",
       "x_0: ┤ H ├──────░─┤ I ├───────────░─┤ H ├┤M├───────────────\n",
       "     ├───┤      ░ ├───┤           ░ ├───┤└╥┘┌─┐            \n",
       "x_1: ┤ H ├──────░─┤ I ├───────────░─┤ H ├─╫─┤M├────────────\n",
       "     ├───┤      ░ └───┘           ░ ├───┤ ║ └╥┘┌─┐         \n",
       "x_2: ┤ H ├──────░───■─────────────░─┤ H ├─╫──╫─┤M├─────────\n",
       "     ├───┤      ░   │  ┌───┐      ░ ├───┤ ║  ║ └╥┘┌─┐      \n",
       "x_3: ┤ H ├──────░───┼──┤ I ├──────░─┤ H ├─╫──╫──╫─┤M├──────\n",
       "     ├───┤      ░   │  └───┘      ░ ├───┤ ║  ║  ║ └╥┘┌─┐   \n",
       "x_4: ┤ H ├──────░───┼────■────────░─┤ H ├─╫──╫──╫──╫─┤M├───\n",
       "     ├───┤      ░   │    │        ░ ├───┤ ║  ║  ║  ║ └╥┘┌─┐\n",
       "x_5: ┤ H ├──────░───┼────┼────■───░─┤ H ├─╫──╫──╫──╫──╫─┤M├\n",
       "     ├───┤┌───┐ ░ ┌─┴─┐┌─┴─┐┌─┴─┐ ░ └───┘ ║  ║  ║  ║  ║ └╥┘\n",
       "  a: ┤ X ├┤ H ├─░─┤ X ├┤ X ├┤ X ├─░───────╫──╫──╫──╫──╫──╫─\n",
       "     └───┘└───┘ ░ └───┘└───┘└───┘ ░       ║  ║  ║  ║  ║  ║ \n",
       "c: 6/═════════════════════════════════════╩══╩══╩══╩══╩══╩═\n",
       "                                          5  4  3  2  1  0 "
      ]
     },
     "execution_count": 1,
     "metadata": {},
     "output_type": "execute_result"
    }
   ],
   "source": [
    "# Para utilizar ferramentas matemáticas\n",
    "import numpy as np\n",
    "\n",
    "# Para visualização com estilo MATBLAB\n",
    "import matplotlib.pyplot as plt\n",
    "\n",
    "# Para utilizar simulador e hardware quântico real\n",
    "from qiskit import IBMQ, Aer\n",
    "from qiskit.providers.ibmq import least_busy\n",
    "\n",
    "# Para construir e manipular circuitos\n",
    "from qiskit import QuantumCircuit, ClassicalRegister, QuantumRegister, transpile, assemble\n",
    "\n",
    "# Para utilizar ferramentas de visualização\n",
    "from qiskit.visualization import plot_histogram\n",
    "\n",
    "# Número de qubits para representar a string binária s\n",
    "n = 6\n",
    "\n",
    "# String binária s a ser descoberta\n",
    "s = '001011'   \n",
    "\n",
    "# Cria o circuito quântico\n",
    "reg_x = QuantumRegister(n, name='x')\n",
    "reg_a = QuantumRegister(1, name='a')\n",
    "creg = ClassicalRegister(n, name='c')\n",
    "bv_circuit = QuantumCircuit(reg_x, reg_a, creg)\n",
    "\n",
    "# Inclui as portas Hadamard antes de perguntar ao oráculo\n",
    "for i in range(n):\n",
    "    bv_circuit.h(i)\n",
    "\n",
    "# Coloca o qubit ancilla no estado |->\n",
    "bv_circuit.x(n)\n",
    "bv_circuit.h(n)\n",
    "\n",
    "# Inclui uma barra para facilitar a visualização do circuito\n",
    "bv_circuit.barrier()\n",
    "\n",
    "# Constrói o oráculo\n",
    "# Se o qubit de s que está sendo analisado for 0, adiciona uma porta identidade\n",
    "# Se for 1, adiciona porta CNOT com qubit ancilla como alvo\n",
    "for q in range(n):\n",
    "    if s[q] == '0':\n",
    "        bv_circuit.i(q)\n",
    "    else:\n",
    "        bv_circuit.cx(q, n)\n",
    "        \n",
    "# Inclui uma barra para facilitar a visualização do circuito\n",
    "bv_circuit.barrier()\n",
    "\n",
    "# Inclui as portas Hadamard depois de perguntar ao oráculo\n",
    "for i in range(n):\n",
    "    bv_circuit.h(i)\n",
    "\n",
    "# Inclui as medições (n-1-i para realizar a ordenação little-endian no histograma)\n",
    "for i in range(n):\n",
    "    bv_circuit.measure(i, n-1-i)\n",
    "\n",
    "# Mostra o circuito do algoritmo BV\n",
    "bv_circuit.draw()"
   ]
  },
  {
   "cell_type": "code",
   "execution_count": 2,
   "id": "14d026d5-d48b-45d5-aaf7-bcbf43b5792f",
   "metadata": {},
   "outputs": [
    {
     "name": "stderr",
     "output_type": "stream",
     "text": [
      "/var/folders/30/pgp77_r92w5_rn1ghx4kn51h0000gn/T/ipykernel_19428/2614624168.py:7: DeprecationWarning: Using a qobj for run() is deprecated as of qiskit-aer 0.9.0 and will be removed no sooner than 3 months from that release date. Transpiled circuits should now be passed directly using `backend.run(circuits, **run_options).\n",
      "  results = aer_sim.run(qobj).result()\n"
     ]
    },
    {
     "data": {
      "image/png": "[encoded data removed]",
      "text/plain": [
       "<Figure size 700x500 with 1 Axes>"
      ]
     },
     "execution_count": 2,
     "metadata": {},
     "output_type": "execute_result"
    }
   ],
   "source": [
    "from qiskit.visualization import plot_histogram\n",
    "# Excecuta em um simulador\n",
    "aer_sim = Aer.get_backend('aer_simulator')\n",
    "qobj = assemble(bv_circuit)\n",
    "\n",
    "# Obtém os resultados\n",
    "results = aer_sim.run(qobj).result()\n",
    "answer = results.get_counts()\n",
    "\n",
    "# Mostra os resultados\n",
    "plot_histogram(answer)"
   ]
  },
  {
   "cell_type": "code",
   "execution_count": 3,
   "id": "f52a271a-c374-4bbf-8c3d-f6da0850b5f9",
   "metadata": {},
   "outputs": [
    {
     "name": "stderr",
     "output_type": "stream",
     "text": [
      "/var/folders/30/pgp77_r92w5_rn1ghx4kn51h0000gn/T/ipykernel_19428/3588867999.py:3: DeprecationWarning: The qiskit.IBMQ entrypoint and the qiskit-ibmq-provider package (accessible from 'qiskit.providers.ibmq`) are deprecated and will be removed in a future release. Instead you should use the qiskit-ibm-provider package which is accessible from 'qiskit_ibm_provider'. You can install it with 'pip install qiskit_ibm_provider'. Just replace 'qiskit.IBMQ' with 'qiskit_ibm_provider.IBMProvider'\n",
      "  IBMQ.load_account()\n"
     ]
    },
    {
     "ename": "IBMQAccountCredentialsNotFound",
     "evalue": "'No IBM Quantum Experience credentials found.'",
     "output_type": "error",
     "traceback": [
      "\u001b[0;31m---------------------------------------------------------------------------\u001b[0m",
      "\u001b[0;31mIBMQAccountCredentialsNotFound\u001b[0m            Traceback (most recent call last)",
      "Cell \u001b[0;32mIn[3], line 3\u001b[0m\n\u001b[1;32m      1\u001b[0m \u001b[39m# Executa em um hardware quântico\u001b[39;00m\n\u001b[1;32m      2\u001b[0m \u001b[39m# Carrega uma conta do IBMQ e obtém o dispositivo menos ocupado que tenha um número de qubits maior ou igual a (n+1)\u001b[39;00m\n\u001b[0;32m----> 3\u001b[0m IBMQ\u001b[39m.\u001b[39;49mload_account()\n\u001b[1;32m      4\u001b[0m provider \u001b[39m=\u001b[39m IBMQ\u001b[39m.\u001b[39mget_provider(hub\u001b[39m=\u001b[39m\u001b[39m'\u001b[39m\u001b[39mibm-q\u001b[39m\u001b[39m'\u001b[39m)\n\u001b[1;32m      5\u001b[0m provider\u001b[39m.\u001b[39mbackends()\n",
      "File \u001b[0;32m~/Library/Python/3.9/lib/python/site-packages/qiskit/providers/ibmq/ibmqfactory.py:167\u001b[0m, in \u001b[0;36mIBMQFactory.load_account\u001b[0;34m(self)\u001b[0m\n\u001b[1;32m    164\u001b[0m credentials_list \u001b[39m=\u001b[39m \u001b[39mlist\u001b[39m(stored_credentials\u001b[39m.\u001b[39mvalues())\n\u001b[1;32m    166\u001b[0m \u001b[39mif\u001b[39;00m \u001b[39mnot\u001b[39;00m credentials_list:\n\u001b[0;32m--> 167\u001b[0m     \u001b[39mraise\u001b[39;00m IBMQAccountCredentialsNotFound(\n\u001b[1;32m    168\u001b[0m         \u001b[39m'\u001b[39m\u001b[39mNo IBM Quantum Experience credentials found.\u001b[39m\u001b[39m'\u001b[39m)\n\u001b[1;32m    170\u001b[0m \u001b[39mif\u001b[39;00m \u001b[39mlen\u001b[39m(credentials_list) \u001b[39m>\u001b[39m \u001b[39m1\u001b[39m:\n\u001b[1;32m    171\u001b[0m     \u001b[39mraise\u001b[39;00m IBMQAccountMultipleCredentialsFound(\n\u001b[1;32m    172\u001b[0m         \u001b[39m'\u001b[39m\u001b[39mMultiple IBM Quantum Experience credentials found. \u001b[39m\u001b[39m'\u001b[39m \u001b[39m+\u001b[39m UPDATE_ACCOUNT_TEXT)\n",
      "\u001b[0;31mIBMQAccountCredentialsNotFound\u001b[0m: 'No IBM Quantum Experience credentials found.'"
     ]
    }
   ],
   "source": [
    "# Executa em um hardware quântico\n",
    "# Carrega uma conta do IBMQ e obtém o dispositivo menos ocupado que tenha um número de qubits maior ou igual a (n+1)\n",
    "IBMQ.load_account()\n",
    "provider = IBMQ.get_provider(hub='ibm-q')\n",
    "provider.backends()\n",
    "backend = least_busy(provider.backends(filters=lambda x: x.configuration().n_qubits >= (n+1) and\n",
    "                                   not x.configuration().simulator and x.status().operational==True))\n",
    "\n",
    "# Transpila e executa\n",
    "transpiled_bv_circuit = transpile(bv_circuit, backend)\n",
    "job = backend.run(transpiled_bv_circuit)\n",
    "\n",
    "# Obtém os resultados\n",
    "results = job.result()\n",
    "answer = results.get_counts()\n",
    "\n",
    "# Mostra os resultados\n",
    "plot_histogram(answer, figsize=(20, 5))"
   ]
  },
  {
   "cell_type": "code",
   "execution_count": null,
   "id": "241e982b-c459-4f21-9620-d4e371824b50",
   "metadata": {},
   "outputs": [],
   "source": []
  }
 ],
 "metadata": {
  "kernelspec": {
   "display_name": "Python 3 (ipykernel)",
   "language": "python",
   "name": "python3"
  },
  "language_info": {
   "codemirror_mode": {
    "name": "ipython",
    "version": 3
   },
   "file_extension": ".py",
   "mimetype": "text/x-python",
   "name": "python",
   "nbconvert_exporter": "python",
   "pygments_lexer": "ipython3",
   "version": "3.9.6"
  },
  "widgets": {
   "application/vnd.jupyter.widget-state+json": {
    "state": {},
    "version_major": 2,
    "version_minor": 0
   }
  }
 },
 "nbformat": 4,
 "nbformat_minor": 5
}
